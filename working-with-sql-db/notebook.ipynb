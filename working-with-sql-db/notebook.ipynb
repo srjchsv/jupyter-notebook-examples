{
 "cells": [
  {
   "cell_type": "code",
   "execution_count": 58,
   "metadata": {},
   "outputs": [
    {
     "name": "stdout",
     "output_type": "stream",
     "text": [
      "Tables names in DB:\n",
      "['Album', 'Artist', 'Customer', 'Employee', 'Genre', 'Invoice', 'InvoiceLine', 'MediaType', 'Playlist', 'PlaylistTrack', 'Track']\n",
      "\n",
      "   GenreId                Name\n",
      "0        1                Rock\n",
      "1        2                Jazz\n",
      "2        3               Metal\n",
      "3        4  Alternative & Punk\n",
      "4        5       Rock And Roll\n"
     ]
    }
   ],
   "source": [
    "import pandas as pd\n",
    "from sqlalchemy import create_engine, inspect\n",
    "\n",
    "# Create a connection to the relational DB\n",
    "engine = create_engine('sqlite:///Chinook.sqlite')\n",
    "\n",
    "# Inspector object to explore the DB\n",
    "inspector = inspect(engine)\n",
    "# Print the names of all tables in the DB\n",
    "print(f\"Tables names in DB:\\n{inspector.get_table_names()}\\n\")\n",
    "\n",
    "# Using pandas, execute a SQL query and load the result into a DataFrame\n",
    "genres_df = pd.read_sql_query(\"SELECT * FROM Genre\", engine)\n",
    "# Print the DataFrame\n",
    "print(genres_df.head())"
   ]
  }
 ],
 "metadata": {
  "kernelspec": {
   "display_name": "base",
   "language": "python",
   "name": "python3"
  },
  "language_info": {
   "codemirror_mode": {
    "name": "ipython",
    "version": 3
   },
   "file_extension": ".py",
   "mimetype": "text/x-python",
   "name": "python",
   "nbconvert_exporter": "python",
   "pygments_lexer": "ipython3",
   "version": "3.11.3"
  },
  "orig_nbformat": 4
 },
 "nbformat": 4,
 "nbformat_minor": 2
}
