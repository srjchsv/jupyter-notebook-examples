{
 "cells": [
  {
   "cell_type": "code",
   "execution_count": 74,
   "metadata": {},
   "outputs": [
    {
     "name": "stdout",
     "output_type": "stream",
     "text": [
      "[{'CustomerID': 1, 'Quantity': 2, 'UnitPrice': 125},\n",
      " {'CustomerID': 2, 'Quantity': 22, 'UnitPrice': 1},\n",
      " {'CustomerID': 3, 'Quantity': 1, 'UnitPrice': 12}]\n"
     ]
    }
   ],
   "source": [
    "import json\n",
    "from pprint import pprint\n",
    "\n",
    "file_path = \"data.json\"\n",
    "\n",
    "# random data\n",
    "data_to_write = [\n",
    "    {\"CustomerID\": 1, \"UnitPrice\": 125, \"Quantity\": 2},\n",
    "    {\"CustomerID\": 2, \"UnitPrice\": 1, \"Quantity\": 22},\n",
    "    {\"CustomerID\": 3, \"UnitPrice\": 12, \"Quantity\": 1},\n",
    "]\n",
    "\n",
    "# write to file\n",
    "with open(file_path, \"w\") as f:\n",
    "    json.dump(data_to_write, f)\n",
    "\n",
    "# read json from file\n",
    "with open(file_path, \"r\") as f:\n",
    "    data_from_file = json.load(f)\n",
    "\n",
    "#pprint json\n",
    "pprint(data_from_file)"
   ]
  },
  {
   "cell_type": "code",
   "execution_count": 70,
   "metadata": {},
   "outputs": [
    {
     "name": "stdout",
     "output_type": "stream",
     "text": [
      "CustomerID: [1, 2, 3]\n",
      "UnitPrice: [125, 1, 12]\n",
      "Quantity: [2, 22, 1]\n"
     ]
    }
   ],
   "source": [
    "# print each key values as list\n",
    "for key in data_from_file[0].keys():\n",
    "    print(f\"{key}: {[transaction.get(key) for transaction in data_from_file]}\")"
   ]
  },
  {
   "cell_type": "code",
   "execution_count": 71,
   "metadata": {},
   "outputs": [
    {
     "name": "stdout",
     "output_type": "stream",
     "text": [
      "Json validation passed\n"
     ]
    },
    {
     "data": {
      "text/plain": [
       "True"
      ]
     },
     "execution_count": 71,
     "metadata": {},
     "output_type": "execute_result"
    }
   ],
   "source": [
    "# validate json\n",
    "def validate_json(data):\n",
    "    try:\n",
    "        json.loads(data)\n",
    "    except Exception as err:\n",
    "        print(f\"{err}: passed file is type of: {type(data)}\")\n",
    "        return False\n",
    "    print(f\"Json validation passed\")\n",
    "    return True\n",
    "\n",
    "\n",
    "validate_json(json.dumps(data_from_file))"
   ]
  }
 ],
 "metadata": {
  "kernelspec": {
   "display_name": "base",
   "language": "python",
   "name": "python3"
  },
  "language_info": {
   "codemirror_mode": {
    "name": "ipython",
    "version": 3
   },
   "file_extension": ".py",
   "mimetype": "text/x-python",
   "name": "python",
   "nbconvert_exporter": "python",
   "pygments_lexer": "ipython3",
   "version": "3.11.3"
  }
 },
 "nbformat": 4,
 "nbformat_minor": 2
}
