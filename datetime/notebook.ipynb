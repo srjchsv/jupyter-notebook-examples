{
 "cells": [
  {
   "cell_type": "code",
   "execution_count": 15,
   "metadata": {},
   "outputs": [
    {
     "name": "stdout",
     "output_type": "stream",
     "text": [
      "2023-11-27 14:05:17.450332\n",
      "2023-11-27 13:05:17.450332\n",
      "2023/11/27 14:05:17\n",
      "1701079517.450332\n",
      "2023/11/27 14:05:17\n",
      "Year: 2023 - Month: 11 - Day: 27\n"
     ]
    }
   ],
   "source": [
    "from datetime import datetime, timedelta\n",
    "import time\n",
    "\n",
    "datetime_now = datetime.now()\n",
    "print(datetime_now)\n",
    "\n",
    "datetime_now_minus_hour = datetime_now - timedelta(hours=1)\n",
    "print(datetime_now_minus_hour)\n",
    "\n",
    "datetime_formatted = datetime_now.strftime(\"%Y/%m/%d %H:%M:%S\")\n",
    "print(datetime_formatted)\n",
    "\n",
    "timestamp = datetime_now.timestamp()\n",
    "print(timestamp)\n",
    "\n",
    "converted_timestamp_to_datetime = time.strftime(\"%Y/%m/%d %H:%M:%S\", time.localtime(timestamp))\n",
    "print(converted_timestamp_to_datetime)\n",
    "\n",
    "print(f\"Year: {datetime_now.year} - Month: {datetime_now.month} - Day: {datetime_now.day}\")"
   ]
  }
 ],
 "metadata": {
  "kernelspec": {
   "display_name": "base",
   "language": "python",
   "name": "python3"
  },
  "language_info": {
   "codemirror_mode": {
    "name": "ipython",
    "version": 3
   },
   "file_extension": ".py",
   "mimetype": "text/x-python",
   "name": "python",
   "nbconvert_exporter": "python",
   "pygments_lexer": "ipython3",
   "version": "3.11.3"
  }
 },
 "nbformat": 4,
 "nbformat_minor": 2
}
