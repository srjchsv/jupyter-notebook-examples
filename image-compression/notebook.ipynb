{
 "cells": [
  {
   "cell_type": "code",
   "execution_count": 6,
   "metadata": {},
   "outputs": [],
   "source": [
    "import utility.compression as compression\n",
    "import os\n",
    "\n",
    "source_path = \"data/images\"\n",
    "target_path_images = \"data/compressedimages\"\n",
    "target_path_directory = \"data/images.tar\"\n",
    "\n",
    "compression.compress_images(source_path, target_path_images)\n",
    "compression.compress_directory(source_path, target_path_directory)"
   ]
  },
  {
   "cell_type": "code",
   "execution_count": 9,
   "metadata": {},
   "outputs": [
    {
     "name": "stdout",
     "output_type": "stream",
     "text": [
      "eachfile_compression_bz2 size: 914150\n",
      "compression difference: 1.53%\n",
      "\n",
      "directory_compression_tar size: 889279\n",
      "compression difference: 4.21%\n",
      "\n"
     ]
    }
   ],
   "source": [
    "compression.calc_compression_difference(\n",
    "    compression.get_total_directory_size(source_path),\n",
    "    eachfile_compression_bz2=compression.get_total_directory_size(target_path_images),\n",
    "    directory_compression_tar=os.path.getsize(target_path_directory),\n",
    ")"
   ]
  }
 ],
 "metadata": {
  "kernelspec": {
   "display_name": "base",
   "language": "python",
   "name": "python3"
  },
  "language_info": {
   "codemirror_mode": {
    "name": "ipython",
    "version": 3
   },
   "file_extension": ".py",
   "mimetype": "text/x-python",
   "name": "python",
   "nbconvert_exporter": "python",
   "pygments_lexer": "ipython3",
   "version": "3.11.5"
  }
 },
 "nbformat": 4,
 "nbformat_minor": 2
}
