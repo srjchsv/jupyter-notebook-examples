{
 "cells": [
  {
   "cell_type": "code",
   "execution_count": null,
   "metadata": {},
   "outputs": [],
   "source": [
    "!pip install pyspark"
   ]
  },
  {
   "cell_type": "code",
   "execution_count": 46,
   "metadata": {},
   "outputs": [
    {
     "name": "stdout",
     "output_type": "stream",
     "text": [
      "<SparkContext master=local[*] appName=pyspark-shell>\n"
     ]
    }
   ],
   "source": [
    "from pyspark.sql import SparkSession\n",
    "\n",
    "spark  = SparkSession.builder.getOrCreate()\n",
    "sc = spark.sparkContext\n",
    "print(sc)"
   ]
  },
  {
   "cell_type": "code",
   "execution_count": 72,
   "metadata": {},
   "outputs": [
    {
     "name": "stdout",
     "output_type": "stream",
     "text": [
      "+--------------------+------+-----------+---------------+-----+-----------------+-----------------+------------------+\n",
      "|               Fruit|  Form|RetailPrice|RetailPriceUnit|Yield|CupEquivalentSize|CupEquivalentUnit|CupEquivalentPrice|\n",
      "+--------------------+------+-----------+---------------+-----+-----------------+-----------------+------------------+\n",
      "|              Apples| Fresh|     1.5193|      per pound|  0.9|           0.2425|           pounds|            0.4094|\n",
      "|  Apples, applesauce|Canned|      1.066|      per pound|  1.0|           0.5401|           pounds|            0.5758|\n",
      "|Apples, ready-to-...| Juice|     0.7804|       per pint|  1.0|              8.0|     fluid ounces|            0.3902|\n",
      "|Apples, frozen co...| Juice|     0.5853|       per pint|  1.0|              8.0|     fluid ounces|            0.2926|\n",
      "|            Apricots| Fresh|     2.9665|      per pound| 0.93|           0.3638|           pounds|            1.1603|\n",
      "+--------------------+------+-----------+---------------+-----+-----------------+-----------------+------------------+\n",
      "only showing top 5 rows\n",
      "\n"
     ]
    }
   ],
   "source": [
    "df = spark.read.csv('../data/fruit_prices.csv', header=True, inferSchema=True)\n",
    "df.show(5)"
   ]
  },
  {
   "cell_type": "code",
   "execution_count": 73,
   "metadata": {},
   "outputs": [
    {
     "name": "stdout",
     "output_type": "stream",
     "text": [
      "+--------------------+\n",
      "|               Fruit|\n",
      "+--------------------+\n",
      "|              Apples|\n",
      "|  Apples, applesauce|\n",
      "|Apples, ready-to-...|\n",
      "+--------------------+\n",
      "only showing top 3 rows\n",
      "\n"
     ]
    }
   ],
   "source": [
    "df.select('Fruit').show(3)"
   ]
  },
  {
   "cell_type": "code",
   "execution_count": 29,
   "metadata": {},
   "outputs": [
    {
     "name": "stdout",
     "output_type": "stream",
     "text": [
      "+--------------------+-----+-----------+---------------+-----+-----------------+-----------------+------------------+\n",
      "|               Fruit| Form|RetailPrice|RetailPriceUnit|Yield|CupEquivalentSize|CupEquivalentUnit|CupEquivalentPrice|\n",
      "+--------------------+-----+-----------+---------------+-----+-----------------+-----------------+------------------+\n",
      "|Apples, ready-to-...|Juice|     0.7804|       per pint|  1.0|              8.0|     fluid ounces|            0.3902|\n",
      "|Apples, frozen co...|Juice|     0.5853|       per pint|  1.0|              8.0|     fluid ounces|            0.2926|\n",
      "|             Bananas|Fresh|     0.5249|      per pound| 0.64|           0.3307|           pounds|            0.2712|\n",
      "+--------------------+-----+-----------+---------------+-----+-----------------+-----------------+------------------+\n",
      "only showing top 3 rows\n",
      "\n"
     ]
    }
   ],
   "source": [
    "df.filter(df.RetailPrice < 1).show(3)"
   ]
  },
  {
   "cell_type": "code",
   "execution_count": 33,
   "metadata": {},
   "outputs": [
    {
     "name": "stdout",
     "output_type": "stream",
     "text": [
      "+---------------+-----+\n",
      "|RetailPriceUnit|count|\n",
      "+---------------+-----+\n",
      "|       per pint|   11|\n",
      "|      per pound|   51|\n",
      "+---------------+-----+\n",
      "\n"
     ]
    }
   ],
   "source": [
    "df.groupBy('RetailPriceUnit').count().show(3)"
   ]
  },
  {
   "cell_type": "code",
   "execution_count": 47,
   "metadata": {},
   "outputs": [
    {
     "name": "stdout",
     "output_type": "stream",
     "text": [
      "+---------------+-----+\n",
      "|RetailPriceUnit|count|\n",
      "+---------------+-----+\n",
      "|      per pound|   51|\n",
      "|       per pint|   11|\n",
      "+---------------+-----+\n",
      "\n"
     ]
    }
   ],
   "source": [
    "from pyspark.sql.functions import desc\n",
    "\n",
    "df.groupBy('RetailPriceUnit').count().orderBy(desc('count')).show()"
   ]
  },
  {
   "cell_type": "code",
   "execution_count": 49,
   "metadata": {},
   "outputs": [
    {
     "data": {
      "text/plain": [
       "53"
      ]
     },
     "execution_count": 49,
     "metadata": {},
     "output_type": "execute_result"
    }
   ],
   "source": [
    "df_no_dup = df.select(\"Fruit\").dropDuplicates()\n",
    "df_no_dup.count()"
   ]
  },
  {
   "cell_type": "code",
   "execution_count": 51,
   "metadata": {},
   "outputs": [
    {
     "name": "stdout",
     "output_type": "stream",
     "text": [
      "+--------------------+------+-----------+---------------+-----+-----------------+-----------------+------------------+\n",
      "|             Product|  Form|RetailPrice|RetailPriceUnit|Yield|CupEquivalentSize|CupEquivalentUnit|CupEquivalentPrice|\n",
      "+--------------------+------+-----------+---------------+-----+-----------------+-----------------+------------------+\n",
      "|              Apples| Fresh|     1.5193|      per pound|  0.9|           0.2425|           pounds|            0.4094|\n",
      "|  Apples, applesauce|Canned|      1.066|      per pound|  1.0|           0.5401|           pounds|            0.5758|\n",
      "|Apples, ready-to-...| Juice|     0.7804|       per pint|  1.0|              8.0|     fluid ounces|            0.3902|\n",
      "+--------------------+------+-----------+---------------+-----+-----------------+-----------------+------------------+\n",
      "only showing top 3 rows\n",
      "\n"
     ]
    }
   ],
   "source": [
    "df_rename_col = df.withColumnRenamed('Fruit', 'Product')\n",
    "df_rename_col.show(3)"
   ]
  },
  {
   "cell_type": "code",
   "execution_count": 52,
   "metadata": {},
   "outputs": [
    {
     "name": "stdout",
     "output_type": "stream",
     "text": [
      "root\n",
      " |-- Fruit: string (nullable = true)\n",
      " |-- Form: string (nullable = true)\n",
      " |-- RetailPrice: double (nullable = true)\n",
      " |-- RetailPriceUnit: string (nullable = true)\n",
      " |-- Yield: double (nullable = true)\n",
      " |-- CupEquivalentSize: double (nullable = true)\n",
      " |-- CupEquivalentUnit: string (nullable = true)\n",
      " |-- CupEquivalentPrice: double (nullable = true)\n",
      "\n"
     ]
    }
   ],
   "source": [
    "df.printSchema()"
   ]
  },
  {
   "cell_type": "code",
   "execution_count": 53,
   "metadata": {},
   "outputs": [
    {
     "data": {
      "text/plain": [
       "['Fruit',\n",
       " 'Form',\n",
       " 'RetailPrice',\n",
       " 'RetailPriceUnit',\n",
       " 'Yield',\n",
       " 'CupEquivalentSize',\n",
       " 'CupEquivalentUnit',\n",
       " 'CupEquivalentPrice']"
      ]
     },
     "execution_count": 53,
     "metadata": {},
     "output_type": "execute_result"
    }
   ],
   "source": [
    "df.columns"
   ]
  },
  {
   "cell_type": "code",
   "execution_count": 54,
   "metadata": {},
   "outputs": [
    {
     "name": "stderr",
     "output_type": "stream",
     "text": [
      "23/12/13 21:40:18 WARN SparkStringUtils: Truncated the string representation of a plan since it was too large. This behavior can be adjusted by setting 'spark.sql.debug.maxToStringFields'.\n"
     ]
    },
    {
     "name": "stdout",
     "output_type": "stream",
     "text": [
      "+-------+----------+------+------------------+---------------+-------------------+------------------+-----------------+-------------------+\n",
      "|summary|     Fruit|  Form|       RetailPrice|RetailPriceUnit|              Yield| CupEquivalentSize|CupEquivalentUnit| CupEquivalentPrice|\n",
      "+-------+----------+------+------------------+---------------+-------------------+------------------+-----------------+-------------------+\n",
      "|  count|        62|    62|                62|             62|                 62|                62|               62|                 62|\n",
      "|   mean|      NULL|  NULL|2.6160500000000013|           NULL| 0.8761290322580645|1.7049838709677414|             NULL| 0.9197403225806453|\n",
      "| stddev|      NULL|  NULL| 2.068128952899135|           NULL|0.17497873255978408|2.9492618420849332|             NULL|0.49196013548336653|\n",
      "|    min|    Apples|Canned|            0.3604|       per pint|               0.46|            0.1232|     fluid ounces|             0.2292|\n",
      "|    max|Watermelon| Juice|           10.5527|      per pound|                1.0|               8.0|           pounds|               3.07|\n",
      "+-------+----------+------+------------------+---------------+-------------------+------------------+-----------------+-------------------+\n",
      "\n"
     ]
    }
   ],
   "source": [
    "df.describe().show()"
   ]
  },
  {
   "cell_type": "code",
   "execution_count": 56,
   "metadata": {},
   "outputs": [
    {
     "name": "stdout",
     "output_type": "stream",
     "text": [
      "+------------------+------+-----------+---------------+-----+-----------------+-----------------+------------------+\n",
      "|             Fruit|  Form|RetailPrice|RetailPriceUnit|Yield|CupEquivalentSize|CupEquivalentUnit|CupEquivalentPrice|\n",
      "+------------------+------+-----------+---------------+-----+-----------------+-----------------+------------------+\n",
      "|            Apples| Fresh|     1.5193|      per pound|  0.9|           0.2425|           pounds|            0.4094|\n",
      "|Apples, applesauce|Canned|      1.066|      per pound|  1.0|           0.5401|           pounds|            0.5758|\n",
      "+------------------+------+-----------+---------------+-----+-----------------+-----------------+------------------+\n",
      "only showing top 2 rows\n",
      "\n"
     ]
    }
   ],
   "source": [
    "df.createOrReplaceTempView('table')\n",
    "\n",
    "spark.sql('SELECT * FROM table').show(2)"
   ]
  },
  {
   "cell_type": "code",
   "execution_count": 68,
   "metadata": {},
   "outputs": [
    {
     "data": {
      "text/plain": [
       "<Axes: ylabel='Form'>"
      ]
     },
     "execution_count": 68,
     "metadata": {},
     "output_type": "execute_result"
    },
    {
     "data": {
      "image/png": "[encoded data removed]",
      "text/plain": [
       "<Figure size 640x480 with 1 Axes>"
      ]
     },
     "metadata": {},
     "output_type": "display_data"
    }
   ],
   "source": [
    "df_pandas = df.toPandas()\n",
    "\n",
    "df_pandas['Form'].value_counts().plot(kind='barh')"
   ]
  }
 ],
 "metadata": {
  "kernelspec": {
   "display_name": "Python 3",
   "language": "python",
   "name": "python3"
  },
  "language_info": {
   "codemirror_mode": {
    "name": "ipython",
    "version": 3
   },
   "file_extension": ".py",
   "mimetype": "text/x-python",
   "name": "python",
   "nbconvert_exporter": "python",
   "pygments_lexer": "ipython3",
   "version": "3.10.13"
  }
 },
 "nbformat": 4,
 "nbformat_minor": 2
}
